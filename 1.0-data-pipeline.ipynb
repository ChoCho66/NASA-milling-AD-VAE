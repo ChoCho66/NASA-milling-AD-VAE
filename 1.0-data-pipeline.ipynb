{
 "cells": [
  {
   "cell_type": "code",
   "execution_count": 1,
   "metadata": {},
   "outputs": [],
   "source": [
    "import numpy as np\n",
    "import scipy.io as sio\n",
    "from sklearn.utils import shuffle\n",
    "import pathlib\n",
    "import pandas as pd\n",
    "from pathlib import Path\n",
    "import matplotlib.pyplot as plt\n",
    "\n",
    "import h5py\n",
    "import zipfile\n",
    "\n",
    "%matplotlib inline\n",
    "# %load_ext autoreload\n",
    "# %autoreload 2"
   ]
  },
  {
   "cell_type": "code",
   "execution_count": null,
   "metadata": {},
   "outputs": [],
   "source": [
    "# download zip file from NASA Prognostic Data Repository, and the labeled tool class data, so that it\n",
    "# can be run on google colab\n",
    "# https://ti.arc.nasa.gov/tech/dash/groups/pcoe/prognostic-data-repository/\n",
    "!wget 'https://ti.arc.nasa.gov/m/project/prognostic-repository/mill.zip'\n",
    "!wget 'https://raw.githubusercontent.com/tvhahn/ml-tool-wear/master/labels_with_tool_class.csv'"
   ]
  },
  {
   "cell_type": "code",
   "execution_count": 3,
   "metadata": {},
   "outputs": [
    {
     "data": {
      "text/html": [
       "<div>\n",
       "<style scoped>\n",
       "    .dataframe tbody tr th:only-of-type {\n",
       "        vertical-align: middle;\n",
       "    }\n",
       "\n",
       "    .dataframe tbody tr th {\n",
       "        vertical-align: top;\n",
       "    }\n",
       "\n",
       "    .dataframe thead th {\n",
       "        text-align: right;\n",
       "    }\n",
       "</style>\n",
       "<table border=\"1\" class=\"dataframe\">\n",
       "  <thead>\n",
       "    <tr style=\"text-align: right;\">\n",
       "      <th></th>\n",
       "      <th>case</th>\n",
       "      <th>run</th>\n",
       "      <th>VB</th>\n",
       "      <th>time</th>\n",
       "      <th>DOC</th>\n",
       "      <th>feed</th>\n",
       "      <th>material</th>\n",
       "      <th>cut_no</th>\n",
       "    </tr>\n",
       "  </thead>\n",
       "  <tbody>\n",
       "    <tr>\n",
       "      <th>0</th>\n",
       "      <td>1</td>\n",
       "      <td>1</td>\n",
       "      <td>0.00</td>\n",
       "      <td>2</td>\n",
       "      <td>1.5</td>\n",
       "      <td>0.5</td>\n",
       "      <td>1</td>\n",
       "      <td>0</td>\n",
       "    </tr>\n",
       "    <tr>\n",
       "      <th>1</th>\n",
       "      <td>1</td>\n",
       "      <td>2</td>\n",
       "      <td>NaN</td>\n",
       "      <td>4</td>\n",
       "      <td>1.5</td>\n",
       "      <td>0.5</td>\n",
       "      <td>1</td>\n",
       "      <td>1</td>\n",
       "    </tr>\n",
       "    <tr>\n",
       "      <th>2</th>\n",
       "      <td>1</td>\n",
       "      <td>3</td>\n",
       "      <td>NaN</td>\n",
       "      <td>6</td>\n",
       "      <td>1.5</td>\n",
       "      <td>0.5</td>\n",
       "      <td>1</td>\n",
       "      <td>2</td>\n",
       "    </tr>\n",
       "    <tr>\n",
       "      <th>3</th>\n",
       "      <td>1</td>\n",
       "      <td>4</td>\n",
       "      <td>0.11</td>\n",
       "      <td>7</td>\n",
       "      <td>1.5</td>\n",
       "      <td>0.5</td>\n",
       "      <td>1</td>\n",
       "      <td>3</td>\n",
       "    </tr>\n",
       "    <tr>\n",
       "      <th>4</th>\n",
       "      <td>1</td>\n",
       "      <td>5</td>\n",
       "      <td>NaN</td>\n",
       "      <td>11</td>\n",
       "      <td>1.5</td>\n",
       "      <td>0.5</td>\n",
       "      <td>1</td>\n",
       "      <td>4</td>\n",
       "    </tr>\n",
       "  </tbody>\n",
       "</table>\n",
       "</div>"
      ],
      "text/plain": [
       "   case  run    VB  time  DOC  feed  material  cut_no\n",
       "0     1    1  0.00     2  1.5   0.5         1       0\n",
       "1     1    2   NaN     4  1.5   0.5         1       1\n",
       "2     1    3   NaN     6  1.5   0.5         1       2\n",
       "3     1    4  0.11     7  1.5   0.5         1       3\n",
       "4     1    5   NaN    11  1.5   0.5         1       4"
      ]
     },
     "execution_count": 3,
     "metadata": {},
     "output_type": "execute_result"
    }
   ],
   "source": [
    "# data_folder = Path(r'C:\\_Python\\_milling\\data\\raw') # windows link\n",
    "data_file = Path('mill.zip') # linux link\n",
    "# data_file = data_folder / 'mill.zip'\n",
    "\n",
    "with zipfile.ZipFile(data_file, 'r') as zip_ref:\n",
    "    zip_ref.extractall('')\n",
    "\n",
    "# load the data from the matlab file\n",
    "m = sio.loadmat('mill.mat',struct_as_record=True)\n",
    "\n",
    "# store the 'mill' data in a seperate np array\n",
    "data = m['mill']\n",
    "\n",
    "# store the field names in the data np array in a tuple, l\n",
    "l = data.dtype.names\n",
    "\n",
    "# create empty dataframe for the labels\n",
    "df_labels = pd.DataFrame()\n",
    "\n",
    "# get the labels from the original .mat file and put in dataframe\n",
    "for i in range(7):\n",
    "    # list for storing the label data for each field\n",
    "    x = []\n",
    "    \n",
    "    # iterate through each of the unique cuts\n",
    "    for j in range(167):\n",
    "        x.append(data[0,j][i][0][0])\n",
    "    x = np.array(x)\n",
    "    df_labels[str(i)] = x\n",
    "\n",
    "# add column names to the dataframe\n",
    "df_labels.columns = l[0:7]\n",
    "    \n",
    "# create a column with the unique cut number\n",
    "df_labels['cut_no'] = [i for i in range(167)]\n",
    "\n",
    "df_labels.head()"
   ]
  },
  {
   "cell_type": "code",
   "execution_count": null,
   "metadata": {},
   "outputs": [],
   "source": [
    "current_dir = Path.cwd()\n",
    "processed_data = current_dir.parent.parent / 'src' \n",
    "processed_data"
   ]
  },
  {
   "cell_type": "code",
   "execution_count": null,
   "metadata": {},
   "outputs": [],
   "source": [
    "(X_train, y_train, \n",
    "X_train_slim, y_train_slim,\n",
    "X_val, y_val,\n",
    "X_val_slim, y_val_slim,\n",
    "X_test,y_test) = data_transforms.load_train_test(processed_data) "
   ]
  },
  {
   "cell_type": "code",
   "execution_count": null,
   "metadata": {},
   "outputs": [],
   "source": [
    "X_train.shape"
   ]
  },
  {
   "cell_type": "code",
   "execution_count": null,
   "metadata": {},
   "outputs": [],
   "source": [
    "plt.plot(X_train[0])"
   ]
  },
  {
   "cell_type": "code",
   "execution_count": null,
   "metadata": {},
   "outputs": [],
   "source": [
    "test_signal = X_train[0,:,0]\n",
    "plt.plot(test_signal)"
   ]
  },
  {
   "cell_type": "code",
   "execution_count": null,
   "metadata": {},
   "outputs": [],
   "source": [
    "# s, _, sub_s = np.shape(X_train)\n",
    "# print(np.shape(X_train))\n",
    "# print(s,sub_s)\n",
    "\n",
    "# for i in range(s):\n",
    "#     for j in range(sub_s):\n",
    "#         X_train[i,:,j] = np.interp(X_train[i,:,j], (min_vals[j], max_vals[j]), (0, 1))"
   ]
  },
  {
   "cell_type": "code",
   "execution_count": null,
   "metadata": {},
   "outputs": [],
   "source": [
    "def scaler(x, min_val_array, max_val_array, lower_norm_val, upper_norm_val):\n",
    "    \n",
    "    # get the shape of the array\n",
    "    s, _, sub_s = np.shape(x)\n",
    "    \n",
    "    for i in range(s):\n",
    "        for j in range(sub_s):\n",
    "            x[i,:,j] = np.interp(x[i,:,j], \n",
    "                                 (min_val_array[j], max_val_array[j]), \n",
    "                                 (lower_norm_val, upper_norm_val))\n",
    "            \n",
    "    return x\n",
    "    \n",
    "def get_min_max(x):\n",
    "\n",
    "    # flatten the input array http://bit.ly/2MQuXZd\n",
    "    flat_vector = np.concatenate(x)\n",
    "\n",
    "    min_vals = np.min(flat_vector,axis=0)\n",
    "    max_vals = np.max(flat_vector,axis=0)\n",
    "\n",
    "    return min_vals, max_vals\n"
   ]
  },
  {
   "cell_type": "code",
   "execution_count": null,
   "metadata": {},
   "outputs": [],
   "source": [
    "min_vals, max_vals = get_min_max(X_train)\n",
    "print(min_vals)\n",
    "print(max_vals)\n",
    "\n",
    "X_sample = X_train[0:2]\n",
    "X_sample = scaler(X_sample, min_vals, max_vals, 0, 1)\n"
   ]
  },
  {
   "cell_type": "code",
   "execution_count": null,
   "metadata": {},
   "outputs": [],
   "source": [
    "plt.plot(X_sample[0])"
   ]
  },
  {
   "cell_type": "code",
   "execution_count": null,
   "metadata": {},
   "outputs": [],
   "source": [
    "plt.plot(X_train[0])"
   ]
  },
  {
   "cell_type": "markdown",
   "metadata": {},
   "source": [
    "However, there is a problem when the signal is out of the lower/upper scaling range:"
   ]
  },
  {
   "cell_type": "code",
   "execution_count": null,
   "metadata": {},
   "outputs": [],
   "source": [
    "X_val = scaler(X_val, min_vals, max_vals, 0, 0.6)\n",
    "min_vals_validation, max_vals_validation = get_min_max(X_val)\n",
    "print(min_vals_validation)\n",
    "print(max_vals_validation)\n",
    "\n",
    "X_sample = scaler(X_val, min_vals, max_vals, 0, 1)\n",
    "plt.plot(X_sample[0])"
   ]
  },
  {
   "cell_type": "markdown",
   "metadata": {},
   "source": [
    "## Make scaler that doesn't truncate"
   ]
  },
  {
   "cell_type": "code",
   "execution_count": null,
   "metadata": {},
   "outputs": [],
   "source": [
    "(X_train, y_train, \n",
    "X_train_slim, y_train_slim,\n",
    "X_val, y_val,\n",
    "X_val_slim, y_val_slim,\n",
    "X_test,y_test) = data_transforms.load_train_test(processed_data) "
   ]
  },
  {
   "cell_type": "code",
   "execution_count": null,
   "metadata": {},
   "outputs": [],
   "source": [
    "def scaler(x, min_val_array, max_val_array):\n",
    "    \n",
    "    # get the shape of the array\n",
    "    s, _, sub_s = np.shape(x)\n",
    "    \n",
    "    for i in range(s):\n",
    "        for j in range(sub_s):\n",
    "            x[i,:,j] = np.divide((x[i,:,j] - min_val_array[j]), np.abs(max_val_array[j] - min_val_array[j]))\n",
    "           \n",
    "    return x\n",
    "    "
   ]
  },
  {
   "cell_type": "code",
   "execution_count": null,
   "metadata": {},
   "outputs": [],
   "source": [
    "min_vals, max_vals = get_min_max(X_train)\n",
    "print(min_vals)\n",
    "print(max_vals)\n",
    "\n",
    "X_sample = X_train\n",
    "X_sample = scaler(X_sample, min_vals, max_vals)"
   ]
  },
  {
   "cell_type": "code",
   "execution_count": null,
   "metadata": {},
   "outputs": [],
   "source": [
    "min_vals, max_vals = get_min_max(X_sample)\n",
    "print(min_vals)\n",
    "print(max_vals)"
   ]
  },
  {
   "cell_type": "code",
   "execution_count": null,
   "metadata": {},
   "outputs": [],
   "source": [
    "X_sample = X_train[0,:,0]\n",
    "plt.plot(X_sample)"
   ]
  },
  {
   "cell_type": "code",
   "execution_count": null,
   "metadata": {},
   "outputs": [],
   "source": [
    "X_val = scaler(X_test, min_vals, max_vals)\n",
    "\n",
    "min_vals_validation, max_vals_validation = get_min_max(X_val)\n",
    "print(min_vals_validation)\n",
    "print(max_vals_validation)"
   ]
  },
  {
   "cell_type": "markdown",
   "metadata": {},
   "source": [
    "# Make train/val/test set lists"
   ]
  },
  {
   "cell_type": "code",
   "execution_count": null,
   "metadata": {},
   "outputs": [],
   "source": [
    "df_labels = pd.read_csv('labels_with_tool_class.csv',index_col=False)\n",
    "df_labels.head()"
   ]
  },
  {
   "cell_type": "code",
   "execution_count": null,
   "metadata": {},
   "outputs": [],
   "source": [
    "cut_numbers = np.arange(0,167)\n",
    "cut_numbers"
   ]
  },
  {
   "cell_type": "code",
   "execution_count": null,
   "metadata": {},
   "outputs": [],
   "source": [
    "# delete certain cut_numbers that we know are erroneous\n",
    "# cut_no to delete\n",
    "cuts_to_delete = np.array([17, 94])\n",
    "\n",
    "y = df_labels['tool_class'].to_numpy()\n",
    "y = np.delete(y,cuts_to_delete)\n",
    "print(y.shape)\n",
    "X = np.delete(cut_numbers,cuts_to_delete)\n",
    "print(X.shape)\n",
    "X"
   ]
  },
  {
   "cell_type": "code",
   "execution_count": null,
   "metadata": {},
   "outputs": [],
   "source": [
    "from sklearn.model_selection import train_test_split\n",
    "\n",
    "X_train, X_test, y_train, y_test = train_test_split(X, y, test_size=0.4, random_state=15, stratify=y)\n",
    "\n",
    "print(cut_no_test.shape, y_test.shape)\n",
    "\n",
    "X_val, X_test, y_val, y_test = train_test_split(X_test, y_test, test_size=0.5, \n",
    "                                                random_state=42, \n",
    "                                                stratify=y_test)"
   ]
  },
  {
   "cell_type": "code",
   "execution_count": null,
   "metadata": {},
   "outputs": [],
   "source": [
    "cuts_with_failure = [60,70,93,114,140,141,142,143,144,152,153,160]\n",
    "\n",
    "print('X_train cuts with failures:')\n",
    "for i in X_train:\n",
    "    if i in cuts_with_failure:\n",
    "        print(i)\n",
    "\n",
    "print('X_val cuts with failures:')\n",
    "for i in X_val:\n",
    "    if i in cuts_with_failure:\n",
    "        print(i)\n",
    "        \n",
    "print('X_test cuts with failures:')\n",
    "for i in X_test:\n",
    "    if i in cuts_with_failure:\n",
    "        print(i)"
   ]
  }
 ],
 "metadata": {
  "kernelspec": {
   "display_name": "Python 3",
   "language": "python",
   "name": "python3"
  },
  "language_info": {
   "codemirror_mode": {
    "name": "ipython",
    "version": 3
   },
   "file_extension": ".py",
   "mimetype": "text/x-python",
   "name": "python",
   "nbconvert_exporter": "python",
   "pygments_lexer": "ipython3",
   "version": "3.7.7"
  }
 },
 "nbformat": 4,
 "nbformat_minor": 4
}
